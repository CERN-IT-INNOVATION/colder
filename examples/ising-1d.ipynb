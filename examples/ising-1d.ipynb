{
 "cells": [
  {
   "cell_type": "markdown",
   "metadata": {},
   "source": [
    "# COLDER example: the 1D Ising chain\n",
    "\n",
    "In this notebook we will review the simulation of the 1D Ising chain annealing using COLD optimization.\n",
    "\n",
    "First, let us import the essential components that we will need to perform the simulation."
   ]
  },
  {
   "cell_type": "code",
   "execution_count": 1,
   "metadata": {},
   "outputs": [],
   "source": [
    "import colder.core.physics as cphys\n",
    "import colder.models.lattice as cll\n",
    "import colder.simulation.cold as ccold\n",
    "\n",
    "import numpy as np"
   ]
  },
  {
   "cell_type": "markdown",
   "metadata": {},
   "source": [
    "## Build the system hamiltonian and the AGP ansatz\n",
    "\n",
    "Let us focus on the Hamiltonian of the reference paper ([Counterdiabatic Optimized Local Driving](https://link.aps.org/doi/10.1103/PRXQuantum.4.010312)).\n",
    "\n",
    "$$\\mathcal{H} = -J \\sum_j^{N-1} \\sigma_j^z \\sigma_{j+1}^z + Z_0 \\sum_j^N \\sigma_j^z + \\lambda(t)X_f \\sum_j^N \\sigma_j^x$$\n",
    "\n",
    "Looking at the papers, we first have to define some functions and constants that regulate the annealing schedule. In the following, `scale_f` represents $\\lambda(t)$, `f_qoc` the control function $f(t, \\beta)$ (as of Eq. 17). $\\tau$ represents the total annealing time."
   ]
  },
  {
   "cell_type": "code",
   "execution_count": 2,
   "metadata": {},
   "outputs": [],
   "source": [
    "def scale_f(t, tau):\n",
    "    \"\"\"Define the scaling function [0,tau] -> [0,1].\"\"\"\n",
    "    return np.sin( (np.pi/2)*(np.sin(np.pi*t/(2*tau))**2)  )**2\n",
    "\n",
    "def f_qoc(t : float, tau : float, beta : np.ndarray):\n",
    "    \"\"\"control function f(t, beta) to use for qoc\"\"\"\n",
    "    #beta = np.array([beta])\n",
    "    k = np.arange(len(beta)) + 1\n",
    "    \n",
    "    if isinstance(t, np.ndarray):\n",
    "        # fix the sum broadcast when time is an array\n",
    "        t = t.reshape(-1, 1)\n",
    "        return np.sum( beta*np.sin( np.pi*k*t/tau ), axis=1 )\n",
    "    else:\n",
    "        return np.sum( beta*np.sin( np.pi*k*t/tau ) )"
   ]
  },
  {
   "cell_type": "markdown",
   "metadata": {},
   "source": [
    "In the next step, we define the functions that *drive* our system, namely $J(t)$, $Z(t)$ and $X(t)$, one for each term that composes the hamiltonian $\\mathcal{H}$.\n",
    "This is done using python functions that take some inputs, the first of which *must be* the time value $t$, and that returns the desired coefficient.\n",
    "\n",
    "We will use 5 spins, for simplicity."
   ]
  },
  {
   "cell_type": "code",
   "execution_count": 3,
   "metadata": {},
   "outputs": [],
   "source": [
    "# parameters of the system\n",
    "Jsys = 1.0\n",
    "Z0sys = 0.02*Jsys\n",
    "Xfsys = 10*Jsys\n",
    "\n",
    "# we use the lattice module to prompt easily the spin indices\n",
    "lattice = cll.chain(nspin = 5)\n",
    "nspin = lattice.nspin\n",
    "\n",
    "# number of frequencies of the control function (will be used later)\n",
    "Nk = 1"
   ]
  },
  {
   "cell_type": "code",
   "execution_count": 4,
   "metadata": {},
   "outputs": [
    {
     "data": {
      "text/latex": [
       "$\\displaystyle J \\sum_{i=1}^{4} \\sigma_{ZZ}^{i} + X \\sum_{i=1}^{5} \\sigma_{X}^{i} + Z \\sum_{i=1}^{5} \\sigma_{Z}^{i}$"
      ],
      "text/plain": [
       "J*Sum(sigma_ZZ**i, (i, 1, 4)) + X*Sum(sigma_X**i, (i, 1, 5)) + Z*Sum(sigma_Z**i, (i, 1, 5))"
      ]
     },
     "execution_count": 4,
     "metadata": {},
     "output_type": "execute_result"
    }
   ],
   "source": [
    "# note: these functions should have same I/O\n",
    "def Jf(t, tau, beta):\n",
    "    return -Jsys*np.ones_like(t)\n",
    "    #            ^^^ trick to avoid issues in vectorialization\n",
    "\n",
    "def xf(t, tau, beta):\n",
    "    return Xfsys*scale_f(t, tau)\n",
    "def zf(t, tau, beta):\n",
    "    return Z0sys*np.ones_like(t) + f_qoc(t, tau, beta)\n",
    "\n",
    "H_J = cphys.hamiltonian('ZZ', lattice.nearest_neighbor, coeff = 'J', coeff_function=Jf)\n",
    "H_Z = cphys.hamiltonian('Z', lattice.single_site, coeff = 'Z', coeff_function=zf)\n",
    "H_X = cphys.hamiltonian('X', lattice.single_site, coeff = 'X', coeff_function=xf)\n",
    "\n",
    "H = H_J + H_Z + H_X\n",
    "H.expression()"
   ]
  },
  {
   "cell_type": "markdown",
   "metadata": {},
   "source": [
    "**Note**: In this case $J(t)$ is just a constant. To avoid errors in the vectorialization, I suggest to use `np.ones_like(t)` to be vector-safe.\n",
    "\n",
    "**Important**: All the functions must have the same I/O, i.e. the same input parameters. In this specific case, all the coefficient functions `Jf`, `xf` and `zf` receive the inputs `(t, tau, beta)`, even though not all of them use all the input parameters."
   ]
  },
  {
   "cell_type": "markdown",
   "metadata": {},
   "source": [
    "### AGP ansatz\n",
    "\n",
    "It is time to prompt the APG ansatz. We will use the second order LCD potential, as of Eq. 26:\n",
    "$$\\mathcal{A}^{(2)} = \\alpha \\sum_i^N \\sigma_i^y + \\gamma\\sum_i^{N-1} ( \\sigma_i^x\\sigma_{i+1}^y + \\sigma_i^y\\sigma_{i+1}^x ) + \\zeta\\sum_i^{N-1} ( \\sigma_i^z\\sigma_{i+1}^y + \\sigma_i^y\\sigma_{i+1}^z )$$\n",
    "\n",
    "Again, the interface for this is the `physics.hamiltonian` module:"
   ]
  },
  {
   "cell_type": "code",
   "execution_count": 5,
   "metadata": {},
   "outputs": [
    {
     "data": {
      "text/latex": [
       "$\\displaystyle \\alpha \\sum_{i=1}^{5} \\sigma_{Y}^{i} + \\gamma \\sum_{i=1}^{8} \\sigma_{XY}^{i} + \\zeta \\sum_{i=1}^{8} \\sigma_{ZY}^{i}$"
      ],
      "text/plain": [
       "alpha*Sum(sigma_Y**i, (i, 1, 5)) + gamma*Sum(sigma_XY**i, (i, 1, 8)) + zeta*Sum(sigma_ZY**i, (i, 1, 8))"
      ]
     },
     "execution_count": 5,
     "metadata": {},
     "output_type": "execute_result"
    }
   ],
   "source": [
    "ansatz_alpha = cphys.hamiltonian('Y', lattice.single_site, 'alpha')\n",
    "ansatz_gamma = cphys.hamiltonian('XY', lattice.add_invert(lattice.nearest_neighbor), 'gamma')\n",
    "ansatz_zeta = cphys.hamiltonian('ZY', lattice.add_invert(lattice.nearest_neighbor), 'zeta')\n",
    "\n",
    "ansatz = cphys.hamiltonian_collection(ansatz_alpha, ansatz_gamma, ansatz_zeta)\n",
    "ansatz.expression()"
   ]
  },
  {
   "cell_type": "markdown",
   "metadata": {},
   "source": [
    "### Explaination of `add_invert` shortcut\n",
    "\n",
    "Let us break down the usage of `lattice.add_invert()`. The `nearest_neighbor` item will return the nearest neighbor interactions\n",
    "```python\n",
    "    >>> lattice.nearest_neighbor\n",
    "    [(0, 1), (1, 2), (2, 3), (3, 4)]\n",
    "```\n",
    "\n",
    "thus, the code\n",
    "```python\n",
    "    cphys.hamiltonian('XY', lattice.nearest_neighbor, 'gamma')\n",
    "```\n",
    "\n",
    "would build the term $\\sum_i^{N-1} \\sigma_i^x\\sigma_{i+1}^y$ of $\\mathcal{A}$.\n",
    "Now one can notice that the following term features interactions in which Y and X are inverted ($\\sigma_i^y\\sigma_{i+1}^x$), therefore we can as well invert each tuple of the spin targets to achieve the same result. Indeed, the method `lattice.add_invert(tl)` inverts the input tuple list `tl` and returns both the original list and the list of inverted tuples.\n",
    "```python\n",
    "    >>> lattice.add_invert(lattice.nearest_neighbor)\n",
    "    [(0, 1), (1, 2), (2, 3), (3, 4), (1, 0), (2, 1), (3, 2), (4, 3)]\n",
    "```\n",
    "\n",
    "<br><br>"
   ]
  },
  {
   "cell_type": "markdown",
   "metadata": {},
   "source": [
    "## create the COLDER simulation"
   ]
  },
  {
   "cell_type": "code",
   "execution_count": 6,
   "metadata": {},
   "outputs": [
    {
     "name": "stdout",
     "output_type": "stream",
     "text": [
      "[info] caching agp\n"
     ]
    }
   ],
   "source": [
    "tau : float = 0.01   # total annealing time\n",
    "nsteps : int = 200   # number of discrete steps to perform in the annealing simulation\n",
    "backend = 'scipy'\n",
    "\n",
    "csym = ccold.cold(\n",
    "    system = H, ansatz = ansatz, annealing_time = tau, nspin = nspin,\n",
    "    # parameters to be passed at the system coefficient functions\n",
    "    system_fargs = {'tau' : tau, 'beta' : np.zeros(Nk)}, \n",
    "    # name of the parameter to treat as QOC parameter (which will be tweaked during the optimization)\n",
    "    qoc_parameters=['beta'],\n",
    "    # backend\n",
    "    backend = backend\n",
    ")"
   ]
  },
  {
   "cell_type": "markdown",
   "metadata": {},
   "source": [
    "<br>\n",
    "\n",
    "### let us take a look at the gauge potential!\n",
    "\n",
    "The `agp` attribute of the colder simulation contains the object that computes and solves the Adiabatic Gauge Potential symbolically."
   ]
  },
  {
   "cell_type": "code",
   "execution_count": 7,
   "metadata": {},
   "outputs": [
    {
     "data": {
      "text/latex": [
       "$\\displaystyle 48.0 J^{2} \\gamma^{2} + 48.0 J^{2} \\zeta^{2} + 64.0 Z^{2} \\gamma^{2} + 20.0 \\left(- X \\alpha - 0.5 dZ\\right)^{2} + 64.0 \\left(- X \\zeta - 0.25 dJ\\right)^{2} + 64.0 \\left(X \\zeta - Z \\gamma\\right)^{2} + 32.0 \\left(J \\alpha - X \\gamma + Z \\zeta\\right)^{2} + 48.0 \\left(J \\zeta + 0.5 Z \\alpha - 0.25 dX\\right)^{2} + 8.0 \\left(J \\zeta + Z \\alpha - 0.5 dX\\right)^{2}$"
      ],
      "text/plain": [
       "48.0*J**2*gamma**2 + 48.0*J**2*zeta**2 + 64.0*Z**2*gamma**2 + 20.0*(-X*alpha - 0.5*dZ)**2 + 64.0*(-X*zeta - 0.25*dJ)**2 + 64.0*(X*zeta - Z*gamma)**2 + 32.0*(J*alpha - X*gamma + Z*zeta)**2 + 48.0*(J*zeta + 0.5*Z*alpha - 0.25*dX)**2 + 8.0*(J*zeta + Z*alpha - 0.5*dX)**2"
      ]
     },
     "execution_count": 7,
     "metadata": {},
     "output_type": "execute_result"
    }
   ],
   "source": [
    "csym.agp.compute_square_trace()"
   ]
  },
  {
   "cell_type": "markdown",
   "metadata": {},
   "source": [
    "Here you are! Now you have the AGP without making the math yourself. The computation is instantaneous for small systems, but scales polynomially for bigger systems. However, this is all you need to test an arbitrary AGP on the flight, as the AGP working on smaller systems will work also on bigger ones."
   ]
  },
  {
   "cell_type": "markdown",
   "metadata": {},
   "source": [
    "## initialize the simulation\n",
    "\n",
    "The following command is crucial to initialize all the requirements before using the COLD object for simulations.\n",
    "This method computes the AGP and optimizes numerically the interpolation of the schedule functions."
   ]
  },
  {
   "cell_type": "code",
   "execution_count": 8,
   "metadata": {},
   "outputs": [],
   "source": [
    "csym.be_ready()"
   ]
  },
  {
   "cell_type": "markdown",
   "metadata": {},
   "source": [
    "If you like, you can plot the schedule functions..."
   ]
  },
  {
   "cell_type": "code",
   "execution_count": 9,
   "metadata": {},
   "outputs": [
    {
     "data": {
      "image/png": "[encoded data removed]",
      "text/plain": [
       "<Figure size 640x480 with 1 Axes>"
      ]
     },
     "metadata": {},
     "output_type": "display_data"
    }
   ],
   "source": [
    "# check the schedules\n",
    "csym.plot_schedules()"
   ]
  },
  {
   "cell_type": "markdown",
   "metadata": {},
   "source": [
    "... or the spectrum of the system hamiltonian."
   ]
  },
  {
   "cell_type": "code",
   "execution_count": 10,
   "metadata": {},
   "outputs": [
    {
     "data": {
      "image/png": "[encoded data removed]",
      "text/plain": [
       "<Figure size 640x480 with 1 Axes>"
      ]
     },
     "metadata": {},
     "output_type": "display_data"
    }
   ],
   "source": [
    "csym.plot_spectrum(use_H0=True)"
   ]
  },
  {
   "cell_type": "markdown",
   "metadata": {},
   "source": [
    "If you want to access to the hamiltonian as function of time, use the following:"
   ]
  },
  {
   "cell_type": "code",
   "execution_count": 11,
   "metadata": {},
   "outputs": [
    {
     "data": {
      "text/plain": [
       "array([[-3.9 +0.j        ,  0.  +0.08371406j,  0.  +0.16748091j, ...,\n",
       "         0.  +0.j        ,  0.  +0.j        ,  0.  +0.j        ],\n",
       "       [ 0.  -0.08371406j, -1.94+0.j        ,  0.  +0.j        , ...,\n",
       "         0.  +0.j        ,  0.  +0.j        ,  0.  +0.j        ],\n",
       "       [ 0.  -0.16748091j,  0.  +0.j        ,  0.06+0.j        , ...,\n",
       "         0.  +0.j        ,  0.  +0.j        ,  0.  +0.j        ],\n",
       "       ...,\n",
       "       [ 0.  +0.j        ,  0.  +0.j        ,  0.  +0.j        , ...,\n",
       "        -0.06+0.j        ,  0.  +0.j        ,  0.  -0.16758649j],\n",
       "       [ 0.  +0.j        ,  0.  +0.j        ,  0.  +0.j        , ...,\n",
       "         0.  +0.j        , -2.06+0.j        ,  0.  -0.08381964j],\n",
       "       [ 0.  +0.j        ,  0.  +0.j        ,  0.  +0.j        , ...,\n",
       "         0.  +0.16758649j,  0.  +0.08381964j, -4.1 +0.j        ]])"
      ]
     },
     "execution_count": 11,
     "metadata": {},
     "output_type": "execute_result"
    }
   ],
   "source": [
    "H_t = csym.make_timedependent_hamiltonian()\n",
    "\n",
    "H_t(0.0) # let's print it"
   ]
  },
  {
   "cell_type": "markdown",
   "metadata": {},
   "source": [
    "## Annealing simulation\n",
    "\n",
    "Before using the optimization of the schedule provided by the colder package, let us test the performances of annealing schedules for the Ising model **without any optimization**."
   ]
  },
  {
   "cell_type": "code",
   "execution_count": 12,
   "metadata": {},
   "outputs": [],
   "source": [
    "import colder.simulation.annealing\n",
    "import colder.quantum.math"
   ]
  },
  {
   "cell_type": "markdown",
   "metadata": {},
   "source": [
    "The `annealing` module provides the tools to simulate any time evolution given an hamiltonian which is function of time."
   ]
  },
  {
   "cell_type": "code",
   "execution_count": 13,
   "metadata": {},
   "outputs": [],
   "source": [
    "ann = colder.simulation.annealing.annealing(tau, P = nsteps, backend = backend)"
   ]
  },
  {
   "cell_type": "markdown",
   "metadata": {},
   "source": [
    "Also, we need the initial state of the time evolution and the final groundstate to evaluate the fidelity.\n",
    "\n",
    "In this work, we get the initial state as the ground state of the system hamiltonian at time zero."
   ]
  },
  {
   "cell_type": "code",
   "execution_count": 14,
   "metadata": {},
   "outputs": [],
   "source": [
    "# computing initial state and true ground state\n",
    "psi0 = csym.get_psi_zero()\n",
    "truegs = csym.get_psi_final()"
   ]
  },
  {
   "cell_type": "markdown",
   "metadata": {},
   "source": [
    "### standard annealing schedule\n",
    "\n",
    "What happens if one simulates the annealing without any form of optimization? In order to do so, we can get the timedependent hamiltonian without any gauge potential using the method \n",
    "```python\n",
    "    H0 = csym.make_timedependent_hamiltonian_nogauge()\n",
    "```"
   ]
  },
  {
   "cell_type": "code",
   "execution_count": 15,
   "metadata": {},
   "outputs": [],
   "source": [
    "H0 = csym.make_timedependent_hamiltonian_nogauge()\n",
    "psi_bare = ann.run(H0, psi0=psi0)"
   ]
  },
  {
   "cell_type": "markdown",
   "metadata": {},
   "source": [
    "The method `run` of the annealing object will run the time evolution as specified in the construction of the annealing object itself. The initial state of the evolution is prompted through the `psi0` argument. The method returns the final evolved state, which we can finally use to compute the fidelity wrt the true ground state of $\\mathcal{H}$ at time $\\tau$."
   ]
  },
  {
   "cell_type": "code",
   "execution_count": 16,
   "metadata": {},
   "outputs": [
    {
     "data": {
      "text/plain": [
       "0.03855172461180932"
      ]
     },
     "execution_count": 16,
     "metadata": {},
     "output_type": "execute_result"
    }
   ],
   "source": [
    "colder.quantum.math.fidelity(psi_bare, truegs)"
   ]
  },
  {
   "cell_type": "markdown",
   "metadata": {},
   "source": [
    "As you can see, the fidelity is not optimal."
   ]
  },
  {
   "cell_type": "markdown",
   "metadata": {},
   "source": [
    "### LCD annealing\n",
    "\n",
    "What happens if we use Local Counterdiabatic Driving? We can test this running another simulation using the hamiltonian which includes the AGP terms. We have already computed it in `H_t`."
   ]
  },
  {
   "cell_type": "code",
   "execution_count": 17,
   "metadata": {},
   "outputs": [
    {
     "data": {
      "text/plain": [
       "0.21910167164306396"
      ]
     },
     "execution_count": 17,
     "metadata": {},
     "output_type": "execute_result"
    }
   ],
   "source": [
    "psi = ann.run(H_t, psi0=psi0)\n",
    "colder.quantum.math.fidelity(psi, truegs)"
   ]
  },
  {
   "cell_type": "markdown",
   "metadata": {},
   "source": [
    "Indeed, the fidelity improves. But can we do better?"
   ]
  },
  {
   "cell_type": "markdown",
   "metadata": {},
   "source": [
    "## COLD optimization\n",
    "\n",
    "In this section we will run a COLD optimization. The first step is to **define a loss function**.\n",
    "By default, the loss function must take as input two arguments:\n",
    "- the final evolved state `psi`\n",
    "- the QOC parameters `param` (in this case it is the $\\beta$ of QOC function)"
   ]
  },
  {
   "cell_type": "code",
   "execution_count": 18,
   "metadata": {},
   "outputs": [],
   "source": [
    "def loss_infidelity(psi, param):\n",
    "    infidelity = 1 - colder.quantum.math.fidelity(psi, truegs)\n",
    "    print( f'beta = {param}, infidelity = {infidelity}') #add this just to print the progress\n",
    "    return infidelity"
   ]
  },
  {
   "cell_type": "markdown",
   "metadata": {},
   "source": [
    "The optimization can be achieved using the suggested Powell method through the `run_cold_opti()` method."
   ]
  },
  {
   "cell_type": "code",
   "execution_count": 19,
   "metadata": {},
   "outputs": [
    {
     "name": "stdout",
     "output_type": "stream",
     "text": [
      "beta = [0.94499884], infidelity = 0.11119912677783805\n",
      "beta = [0.94499884], infidelity = 0.11119912677783805\n",
      "beta = [1.94499884], infidelity = 0.03895332700879728\n",
      "beta = [3.56303284], infidelity = 0.0034577432633339233\n",
      "beta = [3.32482657], infidelity = 0.004993275223888927\n",
      "beta = [6.18106687], infidelity = 0.00020971002698566554\n",
      "beta = [4.99901195], infidelity = 0.0005463580679356816\n",
      "beta = [10.41713493], infidelity = 0.00011270341733615741\n",
      "beta = [8.36354825], infidelity = 0.00010861290542785174\n",
      "beta = [7.52991457], infidelity = 0.00012272044717931418\n",
      "beta = [9.14794854], infidelity = 0.00010584888082743049\n",
      "beta = [8.96850481], infidelity = 0.00010586822988156719\n",
      "beta = [9.22997804], infidelity = 0.00010593985763018843\n",
      "beta = [9.06591904], infidelity = 0.000105819284546671\n",
      "beta = [17.18683925], infidelity = 0.00024858181345366326\n",
      "beta = [9.06591904], infidelity = 0.000105819284546671\n",
      "beta = [17.18683925], infidelity = 0.00024858181345366326\n",
      "beta = [-4.07400595], infidelity = 0.9999999999107015\n",
      "beta = [4.04691445], infidelity = 0.0017171569541529763\n",
      "beta = [12.16783445], infidelity = 0.00013519968435082852\n",
      "beta = [10.50051597], infidelity = 0.0001134876925632522\n",
      "beta = [8.70328363], infidelity = 0.00010651063211875034\n",
      "beta = [9.12084221], infidelity = 0.00010583216105986004\n",
      "beta = [9.07051759], infidelity = 0.00010581926679820164\n",
      "beta = [9.06862584], infidelity = 0.0001058192495785315\n",
      "beta = [9.06859878], infidelity = 0.00010581924960473277\n",
      "beta = [9.06870453], infidelity = 0.00010581924963071199\n",
      "beta = [9.0686559], infidelity = 0.00010581924958330546\n",
      "beta = [9.06862584], infidelity = 0.0001058192495785315\n",
      "beta = [9.07133264], infidelity = 0.00010581928473507585\n",
      "beta = [9.06424615], infidelity = 0.00010581934127162906\n",
      "beta = [9.06695295], infidelity = 0.00010581926292552168\n",
      "beta = [9.06965975], infidelity = 0.00010581925475472431\n",
      "beta = [9.06862098], infidelity = 0.00010581924957864253\n",
      "beta = [9.06862577], infidelity = 0.00010581924957342448\n",
      "beta = [9.06862341], infidelity = 0.00010581924959773836\n",
      "beta = [9.06862487], infidelity = 0.00010581924958041888\n",
      "beta = [9.06862542], infidelity = 0.00010581924958041888\n",
      "beta = [9.06862564], infidelity = 0.00010581924957420163\n",
      "beta = [9.06862571], infidelity = 0.00010581924957830946\n",
      "beta = [9.0686258], infidelity = 0.00010581924959685018\n",
      "beta = [9.06862575], infidelity = 0.00010581924957708821\n",
      "beta = [9.06862578], infidelity = 0.00010581924957442368\n",
      "beta = [9.06862576], infidelity = 0.00010581924957442368\n",
      "beta = [9.06862577], infidelity = 0.00010581924957819844\n",
      "beta = [9.06862576], infidelity = 0.00010581924958363853\n",
      "beta = [9.06862577], infidelity = 0.00010581924957486777\n",
      "beta = [9.06862577], infidelity = 0.00010581924957131505\n",
      "beta = [9.06862577], infidelity = 0.00010581924957675515\n",
      "Optimization terminated successfully.\n",
      "         Current function value: 0.000106\n",
      "         Iterations: 2\n",
      "         Function evaluations: 49\n"
     ]
    }
   ],
   "source": [
    "x0 = np.random.uniform(size=Nk) # initial guess of parameters\n",
    "\n",
    "optim = csym.run_cold_opti(init_parameters = x0,\n",
    "    loss_function = loss_infidelity, psi0 = psi0, annealer_nsteps=nsteps, \n",
    "    options={'disp': True} # options for the scipy.optimizer function\n",
    ")"
   ]
  },
  {
   "cell_type": "markdown",
   "metadata": {},
   "source": [
    "After the convergence of the optimizer, the simulation object is updated with the optimal parameters by default. We clearly see that the fidelity is improved by orders of magnitude, in this example."
   ]
  },
  {
   "cell_type": "code",
   "execution_count": 20,
   "metadata": {},
   "outputs": [
    {
     "name": "stdout",
     "output_type": "stream",
     "text": [
      "minimum loss value 0.00010581924957131505 with beta = [9.06862577]\n",
      "fidelity = 0.9998941807504287\n"
     ]
    }
   ],
   "source": [
    "optim_beta = optim.x\n",
    "optim_f = optim.fun\n",
    "print('minimum loss value {} with beta = {}'.format(optim_f, optim_beta))\n",
    "print('fidelity =', 1-optim_f)"
   ]
  },
  {
   "cell_type": "markdown",
   "metadata": {},
   "source": [
    "<br><br>\n",
    "\n",
    "### Run manually the optimization using any other tool\n",
    "\n",
    "The *colder* package allows to fetch the function to be optimized and run the optimization using any other tool. \n",
    "In this section we will fetch the optimization function and run inference-based methods to optimize it."
   ]
  },
  {
   "cell_type": "code",
   "execution_count": 21,
   "metadata": {},
   "outputs": [],
   "source": [
    "f0_min = csym.make_cold_optimization_function(loss_function = loss_infidelity, psi0 = psi0, annealer_nsteps=nsteps)"
   ]
  },
  {
   "cell_type": "markdown",
   "metadata": {},
   "source": [
    "As a first example, we use **Gaussian minimization** from skopt. \n",
    "\n",
    "Ref: https://scikit-optimize.github.io/stable/modules/generated/skopt.gp_minimize.html"
   ]
  },
  {
   "cell_type": "code",
   "execution_count": 22,
   "metadata": {},
   "outputs": [
    {
     "name": "stdout",
     "output_type": "stream",
     "text": [
      "beta = [-0.04672667054701307], infidelity = 0.8229494216018249\n",
      "beta = [6.356768822331393], infidelity = 0.00018972820224072429\n",
      "beta = [2.2422378935454184], infidelity = 0.026648192864348497\n",
      "beta = [5.427198377248024], infidelity = 0.00036405017849427956\n",
      "beta = [7.213395427553749], infidelity = 0.0001332139248541031\n",
      "beta = [3.4718773539291377], infidelity = 0.003973977638242365\n",
      "beta = [-10.0], infidelity = 0.9999999999962738\n",
      "beta = [10.0], infidelity = 0.00010932109388406275\n",
      "beta = [8.839526027316534], infidelity = 0.00010608295523817368\n",
      "beta = [2.8646982460803123], infidelity = 0.010380964211278099\n",
      "beta = [4.514514514759366], infidelity = 0.0009391913870580026\n",
      "beta = [8.065330742783164], infidelity = 0.00011193835583500622\n",
      "beta = [9.514293592793056], infidelity = 0.00010669097404480965\n",
      "beta = [-6.308661586303132], infidelity = 0.9999999999943713\n",
      "beta = [4.022286435017344], infidelity = 0.0017763121942927507\n"
     ]
    }
   ],
   "source": [
    "from skopt import gp_minimize\n",
    "\n",
    "skres = gp_minimize(f0_min,           # the function to minimize\n",
    "                  [(-10.0, 10.0)],    # bounds on each dimension of x\n",
    "                  acq_func=\"EI\",      # acquisition function\n",
    "                  n_calls=15,         # number of evaluations of f\n",
    "                  n_random_starts=5,  # number of random initialization points\n",
    "                  random_state=1234   # random seed\n",
    ")"
   ]
  },
  {
   "cell_type": "code",
   "execution_count": 23,
   "metadata": {},
   "outputs": [
    {
     "name": "stdout",
     "output_type": "stream",
     "text": [
      "infidelity 0.00010608295523817368 with beta = [8.839526027316534]\n"
     ]
    }
   ],
   "source": [
    "print('infidelity {} with beta = {}'.format(skres.fun, skres.x))"
   ]
  },
  {
   "cell_type": "markdown",
   "metadata": {},
   "source": [
    "As last example, we use the **bayes_opt** package.\n",
    "\n",
    "Ref: https://github.com/bayesian-optimization/BayesianOptimization"
   ]
  },
  {
   "cell_type": "code",
   "execution_count": 24,
   "metadata": {},
   "outputs": [
    {
     "name": "stdout",
     "output_type": "stream",
     "text": [
      "|   iter    |  target   |     x     |\n",
      "-------------------------------------\n",
      "| \u001b[0m1        \u001b[0m | \u001b[0m2.004e-05\u001b[0m | \u001b[0m-1.66    \u001b[0m |\n",
      "| \u001b[95m2        \u001b[0m | \u001b[95m0.9989   \u001b[0m | \u001b[95m4.406    \u001b[0m |\n"
     ]
    },
    {
     "name": "stdout",
     "output_type": "stream",
     "text": [
      "| \u001b[0m3        \u001b[0m | \u001b[0m3.726e-12\u001b[0m | \u001b[0m-9.998   \u001b[0m |\n",
      "| \u001b[95m4        \u001b[0m | \u001b[95m0.9991   \u001b[0m | \u001b[95m4.566    \u001b[0m |\n",
      "| \u001b[95m5        \u001b[0m | \u001b[95m0.9999   \u001b[0m | \u001b[95m10.0     \u001b[0m |\n",
      "| \u001b[0m6        \u001b[0m | \u001b[0m0.9999   \u001b[0m | \u001b[0m7.869    \u001b[0m |\n",
      "| \u001b[95m7        \u001b[0m | \u001b[95m0.9999   \u001b[0m | \u001b[95m9.01     \u001b[0m |\n",
      "| \u001b[0m8        \u001b[0m | \u001b[0m0.9998   \u001b[0m | \u001b[0m6.384    \u001b[0m |\n",
      "| \u001b[0m9        \u001b[0m | \u001b[0m0.9999   \u001b[0m | \u001b[0m7.096    \u001b[0m |\n",
      "| \u001b[0m10       \u001b[0m | \u001b[0m0.9997   \u001b[0m | \u001b[0m5.535    \u001b[0m |\n",
      "| \u001b[0m11       \u001b[0m | \u001b[0m0.9999   \u001b[0m | \u001b[0m9.569    \u001b[0m |\n",
      "| \u001b[0m12       \u001b[0m | \u001b[0m0.9999   \u001b[0m | \u001b[0m8.428    \u001b[0m |\n",
      "| \u001b[0m13       \u001b[0m | \u001b[0m0.9998   \u001b[0m | \u001b[0m5.96     \u001b[0m |\n",
      "| \u001b[0m14       \u001b[0m | \u001b[0m0.9995   \u001b[0m | \u001b[0m5.031    \u001b[0m |\n",
      "| \u001b[0m15       \u001b[0m | \u001b[0m0.9999   \u001b[0m | \u001b[0m7.482    \u001b[0m |\n",
      "| \u001b[0m16       \u001b[0m | \u001b[0m0.9998   \u001b[0m | \u001b[0m6.747    \u001b[0m |\n",
      "| \u001b[0m17       \u001b[0m | \u001b[0m0.9999   \u001b[0m | \u001b[0m8.718    \u001b[0m |\n",
      "| \u001b[0m18       \u001b[0m | \u001b[0m0.9999   \u001b[0m | \u001b[0m9.283    \u001b[0m |\n",
      "| \u001b[0m19       \u001b[0m | \u001b[0m0.9999   \u001b[0m | \u001b[0m8.147    \u001b[0m |\n",
      "| \u001b[0m20       \u001b[0m | \u001b[0m0.9999   \u001b[0m | \u001b[0m9.774    \u001b[0m |\n",
      "| \u001b[0m21       \u001b[0m | \u001b[0m0.9999   \u001b[0m | \u001b[0m9.996    \u001b[0m |\n",
      "| \u001b[0m22       \u001b[0m | \u001b[0m0.9999   \u001b[0m | \u001b[0m7.666    \u001b[0m |\n",
      "| \u001b[0m23       \u001b[0m | \u001b[0m0.9999   \u001b[0m | \u001b[0m7.265    \u001b[0m |\n",
      "| \u001b[0m24       \u001b[0m | \u001b[0m0.9998   \u001b[0m | \u001b[0m6.197    \u001b[0m |\n",
      "| \u001b[0m25       \u001b[0m | \u001b[0m0.9999   \u001b[0m | \u001b[0m8.838    \u001b[0m |\n",
      "| \u001b[0m26       \u001b[0m | \u001b[0m0.9999   \u001b[0m | \u001b[0m6.872    \u001b[0m |\n",
      "| \u001b[0m27       \u001b[0m | \u001b[0m0.9999   \u001b[0m | \u001b[0m9.345    \u001b[0m |\n",
      "| \u001b[0m28       \u001b[0m | \u001b[0m0.9999   \u001b[0m | \u001b[0m8.34     \u001b[0m |\n",
      "=====================================\n"
     ]
    }
   ],
   "source": [
    "from bayes_opt import BayesianOptimization\n",
    "\n",
    "\n",
    "# this module likes to maximize functions, so we change the loss function!\n",
    "def loss_fidelity(psi, param):\n",
    "    return colder.quantum.math.fidelity(psi, truegs)\n",
    "\n",
    "f0_max = csym.make_cold_optimization_function(loss_function = loss_fidelity, psi0 = psi0, annealer_nsteps=nsteps)\n",
    "\n",
    "\n",
    "optimizer = BayesianOptimization(\n",
    "    f = lambda x: f0_max(np.array([x])), # fix: this module does not input parameters as numpy array, so we force it...\n",
    "    pbounds = {'x': (-10, 10)},\n",
    "    random_state = 1, allow_duplicate_points=True\n",
    ")\n",
    "\n",
    "optimizer.maximize(\n",
    "    init_points=3,\n",
    ")"
   ]
  },
  {
   "cell_type": "code",
   "execution_count": 25,
   "metadata": {},
   "outputs": [
    {
     "name": "stdout",
     "output_type": "stream",
     "text": [
      "infidelity 0.00010583602466351927 with beta = {'x': 9.009775723653998}\n"
     ]
    }
   ],
   "source": [
    "print('infidelity {} with beta = {}'.format(1-optimizer.max['target'], optimizer.max['params']))"
   ]
  }
 ],
 "metadata": {
  "kernelspec": {
   "display_name": "Python 3",
   "language": "python",
   "name": "python3"
  },
  "language_info": {
   "codemirror_mode": {
    "name": "ipython",
    "version": 3
   },
   "file_extension": ".py",
   "mimetype": "text/x-python",
   "name": "python",
   "nbconvert_exporter": "python",
   "pygments_lexer": "ipython3",
   "version": "3.10.12"
  },
  "orig_nbformat": 4
 },
 "nbformat": 4,
 "nbformat_minor": 2
}
